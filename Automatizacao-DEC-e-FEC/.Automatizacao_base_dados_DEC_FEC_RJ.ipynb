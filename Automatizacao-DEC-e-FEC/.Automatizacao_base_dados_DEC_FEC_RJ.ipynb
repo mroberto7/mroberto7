{
  "nbformat": 4,
  "nbformat_minor": 0,
  "metadata": {
    "colab": {
      "name": "Untitled1.ipynb",
      "provenance": [],
      "authorship_tag": "ABX9TyOwJFu5RvQ2GNLv3hpnMpCP",
      "include_colab_link": true
    },
    "kernelspec": {
      "name": "python3",
      "display_name": "Python 3"
    },
    "language_info": {
      "name": "python"
    }
  },
  "cells": [
    {
      "cell_type": "markdown",
      "metadata": {
        "id": "view-in-github",
        "colab_type": "text"
      },
      "source": [
        "<a href=\"https://colab.research.google.com/github/mroberto7/mroberto7/blob/main/.Automatizacao_base_dados_DEC_FEC_RJ.ipynb\" target=\"_parent\"><img src=\"https://colab.research.google.com/assets/colab-badge.svg\" alt=\"Open In Colab\"/></a>"
      ]
    },
    {
      "cell_type": "code",
      "metadata": {
        "id": "-h-etnkQ5tRB"
      },
      "source": [
        "import pandas as pd"
      ],
      "execution_count": 10,
      "outputs": []
    },
    {
      "cell_type": "code",
      "metadata": {
        "id": "MMR3Sa59gvW5"
      },
      "source": [
        "# Variaveis chave \n",
        "mes = 1\n",
        "ano = 2021\n",
        "distribuidora = 383\n",
        " \n",
        "# link para conseguir os dados necessários\n",
        "url = \"https://www2.aneel.gov.br/aplicacoes/indicadores_de_qualidade/decFecSegMensal.cfm?mes={}&ano={}&regiao=SE&distribuidora={}&tipo=d\".format(mes, ano, distribuidora)"
      ],
      "execution_count": null,
      "outputs": []
    },
    {
      "cell_type": "code",
      "metadata": {
        "id": "-ZrWxA7e5o6q"
      },
      "source": [
        "scrap = pd.read_html('https://www2.aneel.gov.br/aplicacoes/indicadores_de_qualidade/decFecSegMensal.cfm?mes=1&ano=2017&regiao=SE&distribuidora=383&tipo=d')"
      ],
      "execution_count": null,
      "outputs": []
    },
    {
      "cell_type": "code",
      "metadata": {
        "id": "XhLnPH625xWa"
      },
      "source": [
        "dataframe = pd.DataFrame(scrap[0])\n",
        "dataframe.to_csv('.\\\\data.csv', encoding='utf-8')"
      ],
      "execution_count": null,
      "outputs": []
    },
    {
      "cell_type": "code",
      "metadata": {
        "id": "EhLxVkEhbGcV"
      },
      "source": [
        "# lista de mudanças para as variáveis\n",
        "#lista_mes = [1,2,3,4,5,6,7,8,9,10,11,12]\n",
        "#lista_ano = [2010,2011,2012,2013,2014,2015,2016,2017,2018,2019,2021]\n",
        "#lista_distribuidora = [ENEL, LIGHT, CERES, EMG, ENF]"
      ],
      "execution_count": null,
      "outputs": []
    },
    {
      "cell_type": "code",
      "metadata": {
        "id": "bk1IOBfHa7Oc"
      },
      "source": [
        "# Códigos das principais distribuidoras RJ\n",
        "#ENEL = 383\n",
        "#LIGHT = 382\n",
        "#CERES = 5274\n",
        "#EMG = 6585\n",
        "#ENF = 6612"
      ],
      "execution_count": null,
      "outputs": []
    },
    {
      "cell_type": "code",
      "metadata": {
        "id": "wE5GGqdHXadg"
      },
      "source": [
        ""
      ],
      "execution_count": null,
      "outputs": []
    },
    {
      "cell_type": "markdown",
      "metadata": {
        "id": "iSif-dnV6CSN"
      },
      "source": [
        "# to do\n",
        "\n",
        "\n",
        "*   Criar looping para mês, ano, e distribuidora \n",
        "*   Retirar 3 primeiras 3 ultimas linhas do df\n",
        "*   Adicionar ao df colunas de mês e ano com base no mês e ano que foi pro url\n",
        "*   Criar um formato para que toda a consulta seja apenas um df\n",
        "\n",
        "\n",
        "\n",
        "\n",
        "\n",
        "\n",
        "\n",
        "\n"
      ]
    }
  ]
}
