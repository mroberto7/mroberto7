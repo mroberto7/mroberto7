{
  "nbformat": 4,
  "nbformat_minor": 0,
  "metadata": {
    "colab": {
      "name": "Untitled1.ipynb",
      "provenance": [],
      "authorship_tag": "ABX9TyOZkb25sWQGa+lXqanLNjjr",
      "include_colab_link": true
    },
    "kernelspec": {
      "name": "python3",
      "display_name": "Python 3"
    },
    "language_info": {
      "name": "python"
    }
  },
  "cells": [
    {
      "cell_type": "markdown",
      "metadata": {
        "id": "view-in-github",
        "colab_type": "text"
      },
      "source": [
        "<a href=\"https://colab.research.google.com/github/mroberto7/mroberto7/blob/main/.Automatizacao_base_dados_DEC_FEC_RJ.ipynb\" target=\"_parent\"><img src=\"https://colab.research.google.com/assets/colab-badge.svg\" alt=\"Open In Colab\"/></a>"
      ]
    },
    {
      "cell_type": "code",
      "metadata": {
        "id": "MMR3Sa59gvW5"
      },
      "source": [
        " mes = [1]\n",
        " ano = [2021]\n",
        " distribuidora = [383]\n",
        "\n",
        " \n",
        " url = \"https://www2.aneel.gov.br/aplicacoes/indicadores_de_qualidade/decFecSegMensal.cfm?mes={}&ano={}&regiao=SE&distribuidora={}&tipo=d\".format(mes, ano, distribuidora)"
      ],
      "execution_count": 5,
      "outputs": []
    },
    {
      "cell_type": "code",
      "metadata": {
        "colab": {
          "base_uri": "https://localhost:8080/"
        },
        "id": "xkVQl4N5YHtD",
        "outputId": "24d62348-8f26-49b2-cad0-8d4b4f5193f3"
      },
      "source": [
        "print(url)"
      ],
      "execution_count": 6,
      "outputs": [
        {
          "output_type": "stream",
          "name": "stdout",
          "text": [
            "https://www2.aneel.gov.br/aplicacoes/indicadores_de_qualidade/decFecSegMensal.cfm?mes=[1]&ano=[2021]&regiao=SE&distribuidora=[383]&tipo=d\n"
          ]
        }
      ]
    },
    {
      "cell_type": "code",
      "metadata": {
        "id": "wE5GGqdHXadg"
      },
      "source": [
        "& MES & \"&ano=\" & ANO & \"&regiao=SE&distribuidora=\" & \"383\" & \"&tipo=d\""
      ],
      "execution_count": null,
      "outputs": []
    }
  ]
}