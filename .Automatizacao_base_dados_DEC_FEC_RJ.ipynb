{
  "nbformat": 4,
  "nbformat_minor": 0,
  "metadata": {
    "colab": {
      "name": "Untitled1.ipynb",
      "provenance": [],
      "authorship_tag": "ABX9TyOxG7n8lAeoeCOClvSHZAkc",
      "include_colab_link": true
    },
    "kernelspec": {
      "name": "python3",
      "display_name": "Python 3"
    },
    "language_info": {
      "name": "python"
    }
  },
  "cells": [
    {
      "cell_type": "markdown",
      "metadata": {
        "id": "view-in-github",
        "colab_type": "text"
      },
      "source": [
        "<a href=\"https://colab.research.google.com/github/mroberto7/mroberto7/blob/main/.Automatizacao_base_dados_DEC_FEC_RJ.ipynb\" target=\"_parent\"><img src=\"https://colab.research.google.com/assets/colab-badge.svg\" alt=\"Open In Colab\"/></a>"
      ]
    },
    {
      "cell_type": "code",
      "metadata": {
        "id": "MMR3Sa59gvW5"
      },
      "source": [
        "# Variaveis chave \n",
        "mes = []\n",
        "ano = []\n",
        "distribuidora = []\n",
        " \n",
        "# link para conseguir os dados necessários\n",
        "url = \"https://www2.aneel.gov.br/aplicacoes/indicadores_de_qualidade/decFecSegMensal.cfm?mes={}&ano={}&regiao=SE&distribuidora={}&tipo=d\".format(mes, ano, distribuidora)"
      ],
      "execution_count": 15,
      "outputs": []
    },
    {
      "cell_type": "code",
      "metadata": {
        "id": "EhLxVkEhbGcV"
      },
      "source": [
        "# lista de mudanças para as variáveis\n",
        "lista_mes = [1,2,3,4,5,6,7,8,9,10,11,12]\n",
        "lista_ano = [2010,2011,2012,2013,2014,2015,2016,2017,2018,2019,2021]\n",
        "lista_distribuidora = [ENEL, LIGHT, CERES, EMG, ENF]"
      ],
      "execution_count": 16,
      "outputs": []
    },
    {
      "cell_type": "code",
      "metadata": {
        "id": "bk1IOBfHa7Oc"
      },
      "source": [
        "# Códigos das principais distribuidoras RJ\n",
        "ENEL = 383\n",
        "LIGHT = 382\n",
        "CERES = 5274\n",
        "EMG = 6585\n",
        "ENF = 6612"
      ],
      "execution_count": 17,
      "outputs": []
    },
    {
      "cell_type": "code",
      "metadata": {
        "id": "hdXhQknCbId5",
        "outputId": "d286006a-29f9-41b5-e0d6-b93afa5c6333",
        "colab": {
          "base_uri": "https://localhost:8080/"
        }
      },
      "source": [
        "for i in lista_distribuidora:\n",
        "  print(i)"
      ],
      "execution_count": 19,
      "outputs": [
        {
          "output_type": "stream",
          "name": "stdout",
          "text": [
            "383\n",
            "382\n",
            "5274\n",
            "6585\n",
            "6612\n"
          ]
        }
      ]
    },
    {
      "cell_type": "code",
      "metadata": {
        "colab": {
          "base_uri": "https://localhost:8080/"
        },
        "id": "xkVQl4N5YHtD",
        "outputId": "24d62348-8f26-49b2-cad0-8d4b4f5193f3"
      },
      "source": [
        "rl)"
      ],
      "execution_count": null,
      "outputs": [
        {
          "output_type": "stream",
          "name": "stdout",
          "text": [
            "https://www2.aneel.gov.br/aplicacoes/indicadores_de_qualidade/decFecSegMensal.cfm?mes=[1]&ano=[2021]&regiao=SE&distribuidora=[383]&tipo=d\n"
          ]
        }
      ]
    },
    {
      "cell_type": "code",
      "metadata": {
        "id": "wE5GGqdHXadg"
      },
      "source": [
        ""
      ],
      "execution_count": null,
      "outputs": []
    }
  ]
}